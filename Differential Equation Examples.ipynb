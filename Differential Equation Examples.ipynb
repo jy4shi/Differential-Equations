{
 "cells": [
  {
   "cell_type": "code",
   "execution_count": 1,
   "metadata": {},
   "outputs": [],
   "source": [
    "from sympy.interactive import printing\n",
    "import sympy as sp\n",
    "\n",
    "printing.init_printing(use_latex=True)"
   ]
  },
  {
   "cell_type": "markdown",
   "metadata": {},
   "source": [
    "### Sympy dsolve example"
   ]
  },
  {
   "cell_type": "code",
   "execution_count": 22,
   "metadata": {
    "scrolled": true
   },
   "outputs": [
    {
     "data": {
      "image/png": "[encoded data removed]",
      "text/latex": [
       "$$- 5 f{\\left (x \\right )} + \\frac{d^{2}}{d x^{2}} f{\\left (x \\right )} = 0$$"
      ],
      "text/plain": [
       "            2          \n",
       "           d           \n",
       "-5⋅f(x) + ───(f(x)) = 0\n",
       "            2          \n",
       "          dx           "
      ]
     },
     "metadata": {},
     "output_type": "display_data"
    },
    {
     "data": {
      "image/png": "[encoded data removed]",
      "text/latex": [
       "$$f{\\left (x \\right )} = C_{1} e^{- \\sqrt{5} x} + C_{2} e^{\\sqrt{5} x}$$"
      ],
      "text/plain": [
       "           -√5⋅x       √5⋅x\n",
       "f(x) = C₁⋅ℯ      + C₂⋅ℯ    "
      ]
     },
     "execution_count": 22,
     "metadata": {},
     "output_type": "execute_result"
    }
   ],
   "source": [
    "f = sp.Function('f')\n",
    "x = sp.symbols('x')\n",
    "\n",
    "diff_eq = sp.Eq(f(x).diff(x, x)-5*f(x), 0)\n",
    "display(diff_eq)\n",
    "\n",
    "sp.dsolve(diff_eq, f(x))"
   ]
  },
  {
   "cell_type": "markdown",
   "metadata": {},
   "source": [
    "### First order initial value problem"
   ]
  },
  {
   "cell_type": "code",
   "execution_count": 30,
   "metadata": {},
   "outputs": [
    {
     "data": {
      "image/png": "[encoded data removed]",
      "text/latex": [
       "$$\\frac{d}{d t} y{\\left (t \\right )} = t - y{\\left (t \\right )}$$"
      ],
      "text/plain": [
       "d                  \n",
       "──(y(t)) = t - y(t)\n",
       "dt                 "
      ]
     },
     "metadata": {},
     "output_type": "display_data"
    },
    {
     "data": {
      "image/png": "[encoded data removed]",
      "text/latex": [
       "$$y{\\left (t \\right )} = \\left(\\left(t - 1\\right) e^{t} + 2\\right) e^{- t}$$"
      ],
      "text/plain": [
       "       ⎛         t    ⎞  -t\n",
       "y(t) = ⎝(t - 1)⋅ℯ  + 2⎠⋅ℯ  "
      ]
     },
     "metadata": {},
     "output_type": "display_data"
    },
    {
     "data": {
      "image/png": "[encoded data removed]",
      "text/latex": [
       "$$y{\\left (t \\right )} = t - 1 + 2 e^{- t}$$"
      ],
      "text/plain": [
       "                  -t\n",
       "y(t) = t - 1 + 2⋅ℯ  "
      ]
     },
     "execution_count": 30,
     "metadata": {},
     "output_type": "execute_result"
    }
   ],
   "source": [
    "y = sp.Function('y')\n",
    "t = sp.symbols('t')\n",
    "\n",
    "diff_eq = sp.Eq(y(t).diff(t), t-y(t))\n",
    "display(diff_eq)\n",
    "\n",
    "diff_eq_sol = sp.dsolve(diff_eq, y(t), ics={y(0):1})\n",
    "display(diff_eq_sol)\n",
    "sp.simplify(diff_eq_sol)"
   ]
  },
  {
   "cell_type": "code",
   "execution_count": 33,
   "metadata": {},
   "outputs": [
    {
     "data": {
      "image/png": "[encoded data removed]",
      "text/latex": [
       "$$P{\\left (x \\right )} y{\\left (x \\right )} + \\frac{d}{d x} y{\\left (x \\right )} = Q{\\left (x \\right )}$$"
      ],
      "text/plain": [
       "            d              \n",
       "P(x)⋅y(x) + ──(y(x)) = Q(x)\n",
       "            dx             "
      ]
     },
     "metadata": {},
     "output_type": "display_data"
    },
    {
     "data": {
      "image/png": "[encoded data removed]",
      "text/latex": [
       "$$u{\\left (x \\right )} = e^{\\int P{\\left (x \\right )}\\, dx}$$"
      ],
      "text/plain": [
       "        ⌠        \n",
       "        ⎮ P(x) dx\n",
       "        ⌡        \n",
       "u(x) = ℯ         "
      ]
     },
     "metadata": {},
     "output_type": "display_data"
    },
    {
     "data": {
      "image/png": "[encoded data removed]",
      "text/latex": [
       "$$y{\\left (x \\right )} = \\frac{C + \\int Q{\\left (x \\right )} u{\\left (x \\right )}\\, dx}{u{\\left (x \\right )}}$$"
      ],
      "text/plain": [
       "           ⌠             \n",
       "       C + ⎮ Q(x)⋅u(x) dx\n",
       "           ⌡             \n",
       "y(x) = ──────────────────\n",
       "              u(x)       "
      ]
     },
     "metadata": {},
     "output_type": "display_data"
    }
   ],
   "source": [
    "y = sp.Function('y')\n",
    "P = sp.Function('P')\n",
    "Q = sp.Function('Q')\n",
    "u = sp.Function('u')\n",
    "x, C = sp.symbols('x C')\n",
    "\n",
    "diff_eq = sp.Eq(y(x).diff(x)+P(x)*y(x), Q(x))\n",
    "display(diff_eq)\n",
    "\n",
    "init_u = sp.Eq(u(x), sp.exp(sp.integrate(P(x))))\n",
    "display(init_u)\n",
    "\n",
    "diff_eq_sol = sp.Eq(y(x), (sp.integrate(Q(x)*u(x))+C)/u(x))\n",
    "display(diff_eq_sol)"
   ]
  },
  {
   "cell_type": "code",
   "execution_count": 48,
   "metadata": {},
   "outputs": [
    {
     "data": {
      "image/png": "[encoded data removed]",
      "text/latex": [
       "$$P{\\left (x \\right )} \\frac{d^{2}}{d x^{2}} y{\\left (x \\right )} + Q{\\left (x \\right )} \\frac{d}{d x} y{\\left (x \\right )} + R{\\left (x \\right )} y{\\left (x \\right )} = G{\\left (x \\right )}$$"
      ],
      "text/plain": [
       "       2                                         \n",
       "      d               d                          \n",
       "P(x)⋅───(y(x)) + Q(x)⋅──(y(x)) + R(x)⋅y(x) = G(x)\n",
       "       2              dx                         \n",
       "     dx                                          "
      ]
     },
     "metadata": {},
     "output_type": "display_data"
    }
   ],
   "source": [
    "y = sp.Function('y')\n",
    "P = sp.Function('P')\n",
    "Q = sp.Function('Q')\n",
    "R = sp.Function('R')\n",
    "G = sp.Function('G')\n",
    "x, C1, C2 = sp.symbols('x C1 C2')\n",
    "\n",
    "diff_eq = sp.Eq(P(x)*y(x).diff(x, x)+Q(x)*y(x).diff(x)+R(x)*y(x), G(x))\n",
    "display(diff_eq)"
   ]
  },
  {
   "cell_type": "markdown",
   "metadata": {},
   "source": [
    "### Second order linear equation"
   ]
  },
  {
   "cell_type": "code",
   "execution_count": 53,
   "metadata": {},
   "outputs": [
    {
     "data": {
      "image/png": "[encoded data removed]",
      "text/latex": [
       "$$- \\frac{d}{d x} y{\\left (x \\right )} + \\frac{d^{2}}{d x^{2}} y{\\left (x \\right )} = 5 e^{x} - \\sin{\\left (2 x \\right )}$$"
      ],
      "text/plain": [
       "               2                        \n",
       "  d           d             x           \n",
       "- ──(y(x)) + ───(y(x)) = 5⋅ℯ  - sin(2⋅x)\n",
       "  dx           2                        \n",
       "             dx                         "
      ]
     },
     "metadata": {},
     "output_type": "display_data"
    },
    {
     "data": {
      "image/png": "[encoded data removed]",
      "text/latex": [
       "$$y{\\left (x \\right )} = C_{1} + \\left(C_{2} + 5 x\\right) e^{x} + \\frac{\\sin{\\left (2 x \\right )}}{5} - \\frac{\\cos{\\left (2 x \\right )}}{10}$$"
      ],
      "text/plain": [
       "                        x   sin(2⋅x)   cos(2⋅x)\n",
       "y(x) = C₁ + (C₂ + 5⋅x)⋅ℯ  + ──────── - ────────\n",
       "                               5          10   "
      ]
     },
     "metadata": {},
     "output_type": "display_data"
    }
   ],
   "source": [
    "y = sp.Function('y')\n",
    "x = sp.symbols('x')\n",
    "\n",
    "diff_eq = sp.Eq(y(x).diff(x, x)-y(x).diff(x), 5*sp.exp(x)-sp.sin(2*x))\n",
    "display(diff_eq)\n",
    "\n",
    "diff_eq_sol = sp.dsolve(diff_eq, y(x))\n",
    "display(diff_eq_sol)"
   ]
  },
  {
   "cell_type": "code",
   "execution_count": null,
   "metadata": {},
   "outputs": [],
   "source": []
  }
 ],
 "metadata": {
  "kernelspec": {
   "display_name": "Python 3",
   "language": "python",
   "name": "python3"
  },
  "language_info": {
   "codemirror_mode": {
    "name": "ipython",
    "version": 3
   },
   "file_extension": ".py",
   "mimetype": "text/x-python",
   "name": "python",
   "nbconvert_exporter": "python",
   "pygments_lexer": "ipython3",
   "version": "3.7.3"
  }
 },
 "nbformat": 4,
 "nbformat_minor": 2
}
